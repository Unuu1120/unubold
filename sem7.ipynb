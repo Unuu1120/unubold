{
 "cells": [
  {
   "cell_type": "code",
   "execution_count": 3,
   "metadata": {},
   "outputs": [
    {
     "data": {
      "text/html": [
       "<div>\n",
       "<style scoped>\n",
       "    .dataframe tbody tr th:only-of-type {\n",
       "        vertical-align: middle;\n",
       "    }\n",
       "\n",
       "    .dataframe tbody tr th {\n",
       "        vertical-align: top;\n",
       "    }\n",
       "\n",
       "    .dataframe thead th {\n",
       "        text-align: right;\n",
       "    }\n",
       "</style>\n",
       "<table border=\"1\" class=\"dataframe\">\n",
       "  <thead>\n",
       "    <tr style=\"text-align: right;\">\n",
       "      <th></th>\n",
       "      <th>Order ID</th>\n",
       "      <th>Order Date</th>\n",
       "      <th>Customer ID</th>\n",
       "      <th>Segment</th>\n",
       "      <th>Region</th>\n",
       "      <th>Category</th>\n",
       "      <th>Product Name</th>\n",
       "      <th>Price</th>\n",
       "      <th>Quantity</th>\n",
       "      <th>Discount</th>\n",
       "      <th>Sales</th>\n",
       "    </tr>\n",
       "  </thead>\n",
       "  <tbody>\n",
       "    <tr>\n",
       "      <th>0</th>\n",
       "      <td>CA-2016-152156</td>\n",
       "      <td>2016-11-08</td>\n",
       "      <td>EB-13930</td>\n",
       "      <td>Хувь хүн</td>\n",
       "      <td>Баянзүрх</td>\n",
       "      <td>Чихэр, печенье</td>\n",
       "      <td>Shokolinsen 250 гр</td>\n",
       "      <td>3300</td>\n",
       "      <td>2</td>\n",
       "      <td>0.00</td>\n",
       "      <td>6600.0</td>\n",
       "    </tr>\n",
       "    <tr>\n",
       "      <th>1</th>\n",
       "      <td>CA-2016-152156</td>\n",
       "      <td>2016-11-08</td>\n",
       "      <td>EB-13930</td>\n",
       "      <td>Хувь хүн</td>\n",
       "      <td>Баянзүрх</td>\n",
       "      <td>OO ийн цаас, сальфетка</td>\n",
       "      <td>Хэрэглээ 00ийн цаас</td>\n",
       "      <td>500</td>\n",
       "      <td>3</td>\n",
       "      <td>0.00</td>\n",
       "      <td>1500.0</td>\n",
       "    </tr>\n",
       "    <tr>\n",
       "      <th>2</th>\n",
       "      <td>CA-2016-138688</td>\n",
       "      <td>2016-06-12</td>\n",
       "      <td>MO-17950</td>\n",
       "      <td>Байгууллага</td>\n",
       "      <td>Хан-Уул</td>\n",
       "      <td>Чихэр, печенье</td>\n",
       "      <td>Алимтай жигнэмэг 230 гр</td>\n",
       "      <td>3100</td>\n",
       "      <td>2</td>\n",
       "      <td>0.00</td>\n",
       "      <td>6200.0</td>\n",
       "    </tr>\n",
       "    <tr>\n",
       "      <th>3</th>\n",
       "      <td>US-2015-108966</td>\n",
       "      <td>2015-10-11</td>\n",
       "      <td>JO-15550</td>\n",
       "      <td>Хувь хүн</td>\n",
       "      <td>Баянзүрх</td>\n",
       "      <td>Хиам бууз</td>\n",
       "      <td>Золотой янта 500 гр</td>\n",
       "      <td>2800</td>\n",
       "      <td>5</td>\n",
       "      <td>0.00</td>\n",
       "      <td>14000.0</td>\n",
       "    </tr>\n",
       "    <tr>\n",
       "      <th>4</th>\n",
       "      <td>US-2015-108966</td>\n",
       "      <td>2015-10-11</td>\n",
       "      <td>JO-15550</td>\n",
       "      <td>Хувь хүн</td>\n",
       "      <td>Баянзүрх</td>\n",
       "      <td>Ундаа ус</td>\n",
       "      <td>Punch 450 мл</td>\n",
       "      <td>1150</td>\n",
       "      <td>2</td>\n",
       "      <td>0.00</td>\n",
       "      <td>2300.0</td>\n",
       "    </tr>\n",
       "    <tr>\n",
       "      <th>...</th>\n",
       "      <td>...</td>\n",
       "      <td>...</td>\n",
       "      <td>...</td>\n",
       "      <td>...</td>\n",
       "      <td>...</td>\n",
       "      <td>...</td>\n",
       "      <td>...</td>\n",
       "      <td>...</td>\n",
       "      <td>...</td>\n",
       "      <td>...</td>\n",
       "      <td>...</td>\n",
       "    </tr>\n",
       "    <tr>\n",
       "      <th>95</th>\n",
       "      <td>US-2017-109484</td>\n",
       "      <td>2017-11-06</td>\n",
       "      <td>JR-15700</td>\n",
       "      <td>Гишүүн</td>\n",
       "      <td>Хан-Уул</td>\n",
       "      <td>Компот варенье, хүүхдийн тэжээл</td>\n",
       "      <td>Hainich нухаш</td>\n",
       "      <td>3300</td>\n",
       "      <td>1</td>\n",
       "      <td>0.03</td>\n",
       "      <td>3201.0</td>\n",
       "    </tr>\n",
       "    <tr>\n",
       "      <th>96</th>\n",
       "      <td>CA-2017-161018</td>\n",
       "      <td>2017-11-09</td>\n",
       "      <td>AJ-10945</td>\n",
       "      <td>Гишүүн</td>\n",
       "      <td>Сүхбаатар</td>\n",
       "      <td>Самар чипс</td>\n",
       "      <td>Lays чипс 80 гр</td>\n",
       "      <td>2300</td>\n",
       "      <td>7</td>\n",
       "      <td>0.03</td>\n",
       "      <td>15617.0</td>\n",
       "    </tr>\n",
       "    <tr>\n",
       "      <th>97</th>\n",
       "      <td>CA-2017-157833</td>\n",
       "      <td>2017-06-17</td>\n",
       "      <td>BM-11575</td>\n",
       "      <td>Хувь хүн</td>\n",
       "      <td>Хан-Уул</td>\n",
       "      <td>Набор, шоколад, бохь</td>\n",
       "      <td>Монстров 23 гр</td>\n",
       "      <td>500</td>\n",
       "      <td>3</td>\n",
       "      <td>0.00</td>\n",
       "      <td>1500.0</td>\n",
       "    </tr>\n",
       "    <tr>\n",
       "      <th>98</th>\n",
       "      <td>CA-2016-149223</td>\n",
       "      <td>2016-09-06</td>\n",
       "      <td>CV-12805</td>\n",
       "      <td>Байгууллага</td>\n",
       "      <td>Чингэлтэй</td>\n",
       "      <td>Архи пиво</td>\n",
       "      <td>Арвай 0.100</td>\n",
       "      <td>2000</td>\n",
       "      <td>6</td>\n",
       "      <td>0.00</td>\n",
       "      <td>12000.0</td>\n",
       "    </tr>\n",
       "    <tr>\n",
       "      <th>99</th>\n",
       "      <td>CA-2016-158568</td>\n",
       "      <td>2016-08-29</td>\n",
       "      <td>DK-12835</td>\n",
       "      <td>Гишүүн</td>\n",
       "      <td>Чингэлтэй</td>\n",
       "      <td>Бэлэн гоймон</td>\n",
       "      <td>Тэйсти гоймон 110 гр</td>\n",
       "      <td>1800</td>\n",
       "      <td>7</td>\n",
       "      <td>0.03</td>\n",
       "      <td>12222.0</td>\n",
       "    </tr>\n",
       "  </tbody>\n",
       "</table>\n",
       "<p>100 rows × 11 columns</p>\n",
       "</div>"
      ],
      "text/plain": [
       "          Order ID Order Date Customer ID      Segment     Region  \\\n",
       "0   CA-2016-152156 2016-11-08    EB-13930     Хувь хүн   Баянзүрх   \n",
       "1   CA-2016-152156 2016-11-08    EB-13930     Хувь хүн   Баянзүрх   \n",
       "2   CA-2016-138688 2016-06-12    MO-17950  Байгууллага    Хан-Уул   \n",
       "3   US-2015-108966 2015-10-11    JO-15550     Хувь хүн   Баянзүрх   \n",
       "4   US-2015-108966 2015-10-11    JO-15550     Хувь хүн   Баянзүрх   \n",
       "..             ...        ...         ...          ...        ...   \n",
       "95  US-2017-109484 2017-11-06    JR-15700       Гишүүн    Хан-Уул   \n",
       "96  CA-2017-161018 2017-11-09    AJ-10945       Гишүүн  Сүхбаатар   \n",
       "97  CA-2017-157833 2017-06-17    BM-11575     Хувь хүн    Хан-Уул   \n",
       "98  CA-2016-149223 2016-09-06    CV-12805  Байгууллага  Чингэлтэй   \n",
       "99  CA-2016-158568 2016-08-29    DK-12835       Гишүүн  Чингэлтэй   \n",
       "\n",
       "                           Category             Product Name  Price  Quantity  \\\n",
       "0                    Чихэр, печенье       Shokolinsen 250 гр   3300         2   \n",
       "1            OO ийн цаас, сальфетка      Хэрэглээ 00ийн цаас    500         3   \n",
       "2                    Чихэр, печенье  Алимтай жигнэмэг 230 гр   3100         2   \n",
       "3                         Хиам бууз      Золотой янта 500 гр   2800         5   \n",
       "4                          Ундаа ус             Punch 450 мл   1150         2   \n",
       "..                              ...                      ...    ...       ...   \n",
       "95  Компот варенье, хүүхдийн тэжээл            Hainich нухаш   3300         1   \n",
       "96                       Самар чипс          Lays чипс 80 гр   2300         7   \n",
       "97             Набор, шоколад, бохь           Монстров 23 гр    500         3   \n",
       "98                        Архи пиво              Арвай 0.100   2000         6   \n",
       "99                     Бэлэн гоймон     Тэйсти гоймон 110 гр   1800         7   \n",
       "\n",
       "    Discount    Sales  \n",
       "0       0.00   6600.0  \n",
       "1       0.00   1500.0  \n",
       "2       0.00   6200.0  \n",
       "3       0.00  14000.0  \n",
       "4       0.00   2300.0  \n",
       "..       ...      ...  \n",
       "95      0.03   3201.0  \n",
       "96      0.03  15617.0  \n",
       "97      0.00   1500.0  \n",
       "98      0.00  12000.0  \n",
       "99      0.03  12222.0  \n",
       "\n",
       "[100 rows x 11 columns]"
      ]
     },
     "execution_count": 3,
     "metadata": {},
     "output_type": "execute_result"
    }
   ],
   "source": [
    "#2 Week7_Store Data Sample.xlsx –р үүсгэсэн Series-үүдээ ашиглан DataFrame үүгэнэ үү.\n",
    "\n",
    "import pandas as pd\n",
    "\n",
    "tt = pd.read_excel(r'C:\\Users\\student\\Downloads\\Week7_Store Data Sample.xlsx')"
   ]
  },
  {
   "cell_type": "code",
   "execution_count": 4,
   "metadata": {},
   "outputs": [
    {
     "data": {
      "text/plain": [
       "0     CA-2016-152156\n",
       "1     CA-2016-152156\n",
       "2     CA-2016-138688\n",
       "3     US-2015-108966\n",
       "4     US-2015-108966\n",
       "           ...      \n",
       "95    US-2017-109484\n",
       "96    CA-2017-161018\n",
       "97    CA-2017-157833\n",
       "98    CA-2016-149223\n",
       "99    CA-2016-158568\n",
       "Name: Order ID, Length: 100, dtype: object"
      ]
     },
     "execution_count": 4,
     "metadata": {},
     "output_type": "execute_result"
    }
   ],
   "source": [
    "#1 Week7_Store Data Sample.xlsx файлын багана тус бүрээр Series үүсгэнэ үү\n",
    "\n",
    "tt['Order ID']"
   ]
  },
  {
   "cell_type": "code",
   "execution_count": 5,
   "metadata": {},
   "outputs": [
    {
     "data": {
      "text/plain": [
       "0    2016-11-08\n",
       "1    2016-11-08\n",
       "2    2016-06-12\n",
       "3    2015-10-11\n",
       "4    2015-10-11\n",
       "        ...    \n",
       "95   2017-11-06\n",
       "96   2017-11-09\n",
       "97   2017-06-17\n",
       "98   2016-09-06\n",
       "99   2016-08-29\n",
       "Name: Order Date, Length: 100, dtype: datetime64[ns]"
      ]
     },
     "execution_count": 5,
     "metadata": {},
     "output_type": "execute_result"
    }
   ],
   "source": [
    "tt['Order Date']"
   ]
  },
  {
   "cell_type": "code",
   "execution_count": 6,
   "metadata": {},
   "outputs": [
    {
     "data": {
      "text/plain": [
       "0     EB-13930\n",
       "1     EB-13930\n",
       "2     MO-17950\n",
       "3     JO-15550\n",
       "4     JO-15550\n",
       "        ...   \n",
       "95    JR-15700\n",
       "96    AJ-10945\n",
       "97    BM-11575\n",
       "98    CV-12805\n",
       "99    DK-12835\n",
       "Name: Customer ID, Length: 100, dtype: object"
      ]
     },
     "execution_count": 6,
     "metadata": {},
     "output_type": "execute_result"
    }
   ],
   "source": [
    "tt['Customer ID']"
   ]
  },
  {
   "cell_type": "code",
   "execution_count": 7,
   "metadata": {},
   "outputs": [
    {
     "data": {
      "text/plain": [
       "0        Хувь хүн\n",
       "1        Хувь хүн\n",
       "2     Байгууллага\n",
       "3        Хувь хүн\n",
       "4        Хувь хүн\n",
       "         ...     \n",
       "95         Гишүүн\n",
       "96         Гишүүн\n",
       "97       Хувь хүн\n",
       "98    Байгууллага\n",
       "99         Гишүүн\n",
       "Name: Segment, Length: 100, dtype: object"
      ]
     },
     "execution_count": 7,
     "metadata": {},
     "output_type": "execute_result"
    }
   ],
   "source": [
    "tt['Segment']"
   ]
  },
  {
   "cell_type": "code",
   "execution_count": 8,
   "metadata": {},
   "outputs": [
    {
     "data": {
      "text/plain": [
       "0      Баянзүрх\n",
       "1      Баянзүрх\n",
       "2       Хан-Уул\n",
       "3      Баянзүрх\n",
       "4      Баянзүрх\n",
       "        ...    \n",
       "95      Хан-Уул\n",
       "96    Сүхбаатар\n",
       "97      Хан-Уул\n",
       "98    Чингэлтэй\n",
       "99    Чингэлтэй\n",
       "Name: Region, Length: 100, dtype: object"
      ]
     },
     "execution_count": 8,
     "metadata": {},
     "output_type": "execute_result"
    }
   ],
   "source": [
    "tt['Region']"
   ]
  },
  {
   "cell_type": "code",
   "execution_count": 9,
   "metadata": {},
   "outputs": [
    {
     "data": {
      "text/plain": [
       "0                      Чихэр, печенье\n",
       "1              OO ийн цаас, сальфетка\n",
       "2                      Чихэр, печенье\n",
       "3                           Хиам бууз\n",
       "4                            Ундаа ус\n",
       "                   ...               \n",
       "95    Компот варенье, хүүхдийн тэжээл\n",
       "96                         Самар чипс\n",
       "97               Набор, шоколад, бохь\n",
       "98                          Архи пиво\n",
       "99                       Бэлэн гоймон\n",
       "Name: Category, Length: 100, dtype: object"
      ]
     },
     "execution_count": 9,
     "metadata": {},
     "output_type": "execute_result"
    }
   ],
   "source": [
    "tt['Category']"
   ]
  },
  {
   "cell_type": "code",
   "execution_count": 10,
   "metadata": {},
   "outputs": [
    {
     "data": {
      "text/plain": [
       "0          Shokolinsen 250 гр\n",
       "1         Хэрэглээ 00ийн цаас\n",
       "2     Алимтай жигнэмэг 230 гр\n",
       "3         Золотой янта 500 гр\n",
       "4                Punch 450 мл\n",
       "               ...           \n",
       "95              Hainich нухаш\n",
       "96            Lays чипс 80 гр\n",
       "97             Монстров 23 гр\n",
       "98                Арвай 0.100\n",
       "99       Тэйсти гоймон 110 гр\n",
       "Name: Product Name, Length: 100, dtype: object"
      ]
     },
     "execution_count": 10,
     "metadata": {},
     "output_type": "execute_result"
    }
   ],
   "source": [
    "tt['Product Name']"
   ]
  },
  {
   "cell_type": "code",
   "execution_count": 11,
   "metadata": {},
   "outputs": [
    {
     "data": {
      "text/plain": [
       "0     3300\n",
       "1      500\n",
       "2     3100\n",
       "3     2800\n",
       "4     1150\n",
       "      ... \n",
       "95    3300\n",
       "96    2300\n",
       "97     500\n",
       "98    2000\n",
       "99    1800\n",
       "Name: Price, Length: 100, dtype: int64"
      ]
     },
     "execution_count": 11,
     "metadata": {},
     "output_type": "execute_result"
    }
   ],
   "source": [
    "tt['Price']"
   ]
  },
  {
   "cell_type": "code",
   "execution_count": 12,
   "metadata": {},
   "outputs": [
    {
     "data": {
      "text/plain": [
       "0     2\n",
       "1     3\n",
       "2     2\n",
       "3     5\n",
       "4     2\n",
       "     ..\n",
       "95    1\n",
       "96    7\n",
       "97    3\n",
       "98    6\n",
       "99    7\n",
       "Name: Quantity, Length: 100, dtype: int64"
      ]
     },
     "execution_count": 12,
     "metadata": {},
     "output_type": "execute_result"
    }
   ],
   "source": [
    "tt['Quantity']"
   ]
  },
  {
   "cell_type": "code",
   "execution_count": 13,
   "metadata": {},
   "outputs": [
    {
     "data": {
      "text/plain": [
       "0     0.00\n",
       "1     0.00\n",
       "2     0.00\n",
       "3     0.00\n",
       "4     0.00\n",
       "      ... \n",
       "95    0.03\n",
       "96    0.03\n",
       "97    0.00\n",
       "98    0.00\n",
       "99    0.03\n",
       "Name: Discount, Length: 100, dtype: float64"
      ]
     },
     "execution_count": 13,
     "metadata": {},
     "output_type": "execute_result"
    }
   ],
   "source": [
    "tt['Discount']"
   ]
  },
  {
   "cell_type": "code",
   "execution_count": 14,
   "metadata": {},
   "outputs": [
    {
     "data": {
      "text/plain": [
       "0      6600.0\n",
       "1      1500.0\n",
       "2      6200.0\n",
       "3     14000.0\n",
       "4      2300.0\n",
       "       ...   \n",
       "95     3201.0\n",
       "96    15617.0\n",
       "97     1500.0\n",
       "98    12000.0\n",
       "99    12222.0\n",
       "Name: Sales, Length: 100, dtype: float64"
      ]
     },
     "execution_count": 14,
     "metadata": {},
     "output_type": "execute_result"
    }
   ],
   "source": [
    "tt['Sales']"
   ]
  }
 ],
 "metadata": {
  "kernelspec": {
   "display_name": "Python 3",
   "language": "python",
   "name": "python3"
  },
  "language_info": {
   "codemirror_mode": {
    "name": "ipython",
    "version": 3
   },
   "file_extension": ".py",
   "mimetype": "text/x-python",
   "name": "python",
   "nbconvert_exporter": "python",
   "pygments_lexer": "ipython3",
   "version": "3.8.3"
  }
 },
 "nbformat": 4,
 "nbformat_minor": 4
}
